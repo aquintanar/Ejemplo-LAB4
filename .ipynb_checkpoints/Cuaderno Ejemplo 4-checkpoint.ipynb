{
 "cells": [
  {
   "cell_type": "code",
   "execution_count": 1,
   "id": "4b492d51",
   "metadata": {},
   "outputs": [],
   "source": [
    "import ctypes\n",
    "import numpy\n",
    "from numpy import linalg as LA"
   ]
  },
  {
   "cell_type": "code",
   "execution_count": 4,
   "id": "dcb6fcf6",
   "metadata": {},
   "outputs": [
    {
     "name": "stdout",
     "output_type": "stream",
     "text": [
      "Overwriting PruebaCNorm.c\n"
     ]
    }
   ],
   "source": [
    "%%file PruebaCNorm.c\n",
    "#include <stdio.h>\n",
    "#include <stdlib.h>\n",
    "#include <math.h>\n",
    "\n",
    "void PruebaCNorm(float *v1, int N, float *n2) {\n",
    "    int i = 0;\n",
    "    float sum = 0;\n",
    "    for(i = 0; i < N; i++) {\n",
    "        sum += v1[i] * v1[i];\n",
    "    }\n",
    "    n2[0] = sqrtf(sum);\n",
    "}"
   ]
  },
  {
   "cell_type": "code",
   "execution_count": 5,
   "id": "4741169f",
   "metadata": {},
   "outputs": [],
   "source": [
    "! gcc -c -Wall -Werror -fpic PruebaCNorm.c\n",
    "! gcc -shared PruebaCNorm.o -o _PruebaCNorm.so"
   ]
  },
  {
   "cell_type": "code",
   "execution_count": 17,
   "id": "2e8349ad",
   "metadata": {},
   "outputs": [],
   "source": [
    "def ctypes_PruebaCNorm():\n",
    "    #Cargar librerias\n",
    "    lib=ctypes.CDLL('./_PruebaCNorm.so')\n",
    "    \n",
    "    #tipo de dato de los argumenos\n",
    "    lib.PruebaCNorm.argtypes=[numpy.ctypeslib.ndpointer(dtype=numpy.float32),\n",
    "                                ctypes.c_int,\n",
    "                                numpy.ctypeslib.ndpointer(dtype=numpy.float32)]\n",
    "    \n",
    "    #funcion configurada\n",
    "    \n",
    "    return lib.PruebaCNorm"
   ]
  },
  {
   "cell_type": "code",
   "execution_count": 39,
   "id": "621b196c",
   "metadata": {},
   "outputs": [],
   "source": [
    "cPN = ctypes_PruebaCNorm()"
   ]
  },
  {
   "cell_type": "code",
   "execution_count": 40,
   "id": "61e0e0c7",
   "metadata": {},
   "outputs": [
    {
     "name": "stdout",
     "output_type": "stream",
     "text": [
      "Overwriting PruebaASMNorm.asm\n"
     ]
    }
   ],
   "source": [
    "%%file PruebaASMNorm.asm\n",
    "\n",
    "global PruebaASMNorm\n",
    "\tsection .text\n",
    "\n",
    "PruebaASMNorm:\n",
    "\txorpd\txmm0,\txmm0\n",
    "\txorpd\txmm1,\txmm1\n",
    "\tcmp\trdx,\t0\n",
    "\tje\tdone\n",
    "next:\n",
    "\tmovss\txmm0,\t[rdi]\n",
    "\tmulss\txmm0,\txmm0\n",
    "\taddss\txmm1,\txmm0\n",
    "\tadd\trdi,\t4\n",
    "\tsub\trsi,\t1\n",
    "\tjnz\tnext\t\n",
    "done:\n",
    "\tsqrtss\txmm1,\txmm1\n",
    "\tmovss\t[rdx],\txmm1\n",
    "\tret"
   ]
  },
  {
   "cell_type": "code",
   "execution_count": 42,
   "id": "7b384373",
   "metadata": {},
   "outputs": [
    {
     "name": "stdout",
     "output_type": "stream",
     "text": [
      "Overwriting PruebaASMNorm.c\n"
     ]
    }
   ],
   "source": [
    "%%file PruebaASMNorm.c\n",
    "extern void PruebaASMNorm(float *v1, int N, float *n2);"
   ]
  },
  {
   "cell_type": "code",
   "execution_count": 43,
   "id": "7a025998",
   "metadata": {},
   "outputs": [],
   "source": [
    "! nasm -f elf64 PruebaASMNorm.asm -o PruebaASMNorm.o\n",
    "! gcc -shared PruebaASMNorm.o PruebaASMNorm.c -o PruebaASMNorm.so\n"
   ]
  },
  {
   "cell_type": "code",
   "execution_count": 44,
   "id": "3b40e11f",
   "metadata": {},
   "outputs": [],
   "source": [
    "def ctypes_PruebaASMNorm():\n",
    "    \n",
    "    lib=ctypes.CDLL('./PruebaASMNorm.so')\n",
    "    \n",
    "    lib.PruebaASMNorm.argtypes=[numpy.ctypeslib.ndpointer(dtype=numpy.float32),\n",
    "                                ctypes.c_int,\n",
    "                                numpy.ctypeslib.ndpointer(dtype=numpy.float32)]\n",
    "    \n",
    "    \n",
    "    return lib.PruebaASMNorm    "
   ]
  },
  {
   "cell_type": "code",
   "execution_count": 45,
   "id": "9efe3c9b",
   "metadata": {},
   "outputs": [],
   "source": [
    "asmPN =ctypes_PruebaASMNorm()"
   ]
  },
  {
   "cell_type": "code",
   "execution_count": 47,
   "id": "8ea824e6",
   "metadata": {},
   "outputs": [],
   "source": [
    "import statistics\n",
    "\n",
    "def filtro_mediana(sign,ventana):\n",
    "    signc=[]\n",
    "    tam=len(sign)\n",
    "    offs = int((ventana-1)/2)\n",
    "    \n",
    "    for i in range(tam):\n",
    "        inicio =i-offs if (i-offs>0) else i\n",
    "        fin = i+offs if(i+offs <tam) else tam\n",
    "        signc.append(statistics.median(sign[inicio:fin]))\n",
    "\n",
    "    return signc"
   ]
  },
  {
   "cell_type": "code",
   "execution_count": 52,
   "id": "94c116ab",
   "metadata": {},
   "outputs": [],
   "source": [
    "#Modulo para graficar\n",
    "import matplotlib.pyplot as plt\n",
    "import time\n",
    "\n",
    "\n",
    "#tamagnos de los arreglos\n",
    "sizes=2**numpy.arange(11,18)\n",
    "\n",
    "#tiempos de la suma de arreglos en floats en C\n",
    "tc = numpy.zeros((len(sizes),1),dtype=numpy.float32)\n",
    "\n",
    "#Tiempos de la suma de floats en ASM\n",
    "\n",
    "tasm = numpy.zeros((len(sizes),1),dtype=numpy.float32)\n",
    "\n",
    "#tiempo con ruido en C\n",
    "\n",
    "tcr = numpy.zeros((len(sizes),1),dtype=numpy.float32)\n",
    "\n",
    "#tiempo con ruido en ASM\n",
    "\n",
    "tasmc = numpy.zeros((len(sizes),1),dtype=numpy.float32)\n",
    "\n",
    "\n",
    "\n"
   ]
  },
  {
   "cell_type": "code",
   "execution_count": null,
   "id": "7e6e05e5",
   "metadata": {},
   "outputs": [],
   "source": [
    "#PRIMER CASO PEQUENO\n",
    "\n",
    "veces=100\n",
    "tam=sizes[0]\n",
    "\n",
    "index=range(veces)\n",
    "\n",
    "tcp=[]\n",
    "tasmp=[]\n",
    "\n",
    "for i in range(veces):\n",
    "    #Entradas\n",
    "    xp = numpy.random.rand(tam,1).astype(numpy.float32)\n",
    "    \n",
    "\n",
    "\n"
   ]
  },
  {
   "cell_type": "code",
   "execution_count": null,
   "id": "b5943cf9",
   "metadata": {},
   "outputs": [],
   "source": []
  }
 ],
 "metadata": {
  "kernelspec": {
   "display_name": "Python 3 (ipykernel)",
   "language": "python",
   "name": "python3"
  },
  "language_info": {
   "codemirror_mode": {
    "name": "ipython",
    "version": 3
   },
   "file_extension": ".py",
   "mimetype": "text/x-python",
   "name": "python",
   "nbconvert_exporter": "python",
   "pygments_lexer": "ipython3",
   "version": "3.8.10"
  }
 },
 "nbformat": 4,
 "nbformat_minor": 5
}
